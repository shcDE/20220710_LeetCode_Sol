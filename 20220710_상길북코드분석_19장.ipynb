{
 "cells": [
  {
   "cell_type": "code",
   "execution_count": null,
   "metadata": {},
   "outputs": [],
   "source": [
    "# 70번 싱글넘버(리트코드 136번)\n",
    "\n",
    "class Solution:\n",
    "    def singleNumber(self, nums: List[int]) -> int:\n",
    "        # 결과 초기값 0으로 설정\n",
    "        result = 0\n",
    "        # nums 리스트 안에 num이 있을 때\n",
    "        for num in nums:\n",
    "            # 결과값은 비교하는 num 값이 서로 다를 때 나오는 num값(XOR연산)\n",
    "            result ^= num\n",
    "        \n",
    "        # 결과값 반환\n",
    "        return result"
   ]
  },
  {
   "cell_type": "code",
   "execution_count": null,
   "metadata": {},
   "outputs": [],
   "source": [
    "# 71번 해밍거리(리트코드 461번)\n",
    "\n",
    "class Solution:\n",
    "    def hammingDistance(self, x: int, y: int) -> int:\n",
    "        # 이진수에서 1의 전체 개수를 리턴\n",
    "        return bin(x^y).count('1')"
   ]
  },
  {
   "cell_type": "code",
   "execution_count": null,
   "metadata": {},
   "outputs": [],
   "source": [
    "# 72번 두 정수의 합(리트코드 371번)\n",
    "\n",
    "class Solution:\n",
    "    def getSum(self, a: int, b: int) -> int:\n",
    "        # MASK 값 및 최대 정수값 설정\n",
    "        MASK = 0xFFFFFFFF\n",
    "        INT_MAX = 0x7FFFFFFF\n",
    "        # 합, 자릿수 처리\n",
    "        while b != 0:\n",
    "            a, b = (a ^ b) & MASK, ((a & b) << 1) & MASK\n",
    "            \n",
    "        # 음수 처리\n",
    "        if a > INT_MAX:\n",
    "            a = ~(a ^ MASK)\n",
    "        # a값 반환\n",
    "        return a"
   ]
  },
  {
   "cell_type": "code",
   "execution_count": null,
   "metadata": {},
   "outputs": [],
   "source": [
    "# 73번 UTF-8 검증(리트코드 393번)\n",
    "\n",
    "class Solution:\n",
    "    def validUtf8(self, data: List[int]) -> bool:\n",
    "        # 문자 바이트 만큼 10으로 시작 판별\n",
    "        # start+1 ~ start+size+1까지 범위 내에서 판별 함수 생성\n",
    "        def check(size):\n",
    "            for i in range(start + 1, start + size +1):\n",
    "                if i >= len(data) or (data[i] >> 6) != 0b10:\n",
    "                    return False\n",
    "                return True\n",
    "        # 초기값 0으로 설정    \n",
    "        start = 0\n",
    "        # 초기값이 data의 길이보다 작을 때 판별 시작\n",
    "        while start < len(data):\n",
    "            # 첫 바이트 기준 총 문자 바이트 판별\n",
    "            first = data[start]\n",
    "            if (first >> 3) == 0b11110 and check(3):\n",
    "                start += 4\n",
    "            elif (first >> 4) == 0b1110 and check(2):\n",
    "                start += 3\n",
    "            elif (first >> 5) == 0b110 and check(1):\n",
    "                start += 2\n",
    "            elif (first >> 7) == 0:\n",
    "                start += 1\n",
    "            else:\n",
    "                return False\n",
    "        \n",
    "        # 위의 조건을 모두 돌면 True 반환\n",
    "        return True"
   ]
  },
  {
   "cell_type": "code",
   "execution_count": null,
   "metadata": {},
   "outputs": [],
   "source": [
    "# 74번 1비트의 개수(리트코드 191번)\n",
    "\n",
    "class Solution:\n",
    "    def hammingWeight(self, n: int) -> int:\n",
    "        # count 초기값 0으로 설정\n",
    "        count = 0\n",
    "        while n:\n",
    "            # 1을 뺀 값과 AND 연산 횟수 측정\n",
    "            n &= n - 1\n",
    "            count += 1\n",
    "        # count 값 반환\n",
    "        return count"
   ]
  }
 ],
 "metadata": {
  "kernelspec": {
   "display_name": "Python 3",
   "language": "python",
   "name": "python3"
  },
  "language_info": {
   "codemirror_mode": {
    "name": "ipython",
    "version": 3
   },
   "file_extension": ".py",
   "mimetype": "text/x-python",
   "name": "python",
   "nbconvert_exporter": "python",
   "pygments_lexer": "ipython3",
   "version": "3.8.5"
  }
 },
 "nbformat": 4,
 "nbformat_minor": 4
}
